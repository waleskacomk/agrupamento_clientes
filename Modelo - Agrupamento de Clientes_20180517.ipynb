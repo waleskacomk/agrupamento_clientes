{
 "cells": [
  {
   "cell_type": "markdown",
   "metadata": {},
   "source": [
    "# IMPORTAÇÃO DAS BIBLIOTECAS"
   ]
  },
  {
   "cell_type": "markdown",
   "metadata": {},
   "source": [
    "### A página a seguir apresenta um modelo analítico cujo objetivo é compreender um conjunto de variáveis acerca de clientes e encontrar semelhanças que agrupem os clientes em conjuntos, com características semelhantes entre si e diferentes entre os outros grupos.\n",
    "### A presente página visa apresentar não apenas o modelo, como também a metodologia adotada e os conceitos envolvidos para escolha das técnicas utilizadas."
   ]
  },
  {
   "cell_type": "markdown",
   "metadata": {},
   "source": [
    "O código abaixo realiza a importação de todas as bibliotecas que foram utilizadas."
   ]
  },
  {
   "cell_type": "code",
   "execution_count": null,
   "metadata": {
    "collapsed": true
   },
   "outputs": [],
   "source": [
    "import numpy as np\n",
    "import pandas as pd\n",
    "import matplotlib.pyplot as plt\n",
    "%matplotlib inline\n",
    "import seaborn as sns\n",
    "from datetime import datetime\n",
    "from datetime import date\n",
    "from sklearn.preprocessing import StandardScaler\n",
    "from sklearn.decomposition import PCA\n",
    "from sklearn.cluster import KMeans\n",
    "from sklearn import preprocessing\n",
    "from sklearn.model_selection import train_test_split\n",
    "from sklearn.tree import DecisionTreeClassifier\n",
    "from sklearn.metrics import classification_report,confusion_matrix\n",
    "from IPython.display import Image  \n",
    "from sklearn.externals.six import StringIO  \n",
    "from sklearn.tree import export_graphviz\n",
    "import pydot \n",
    "from sklearn.cluster import AffinityPropagation\n",
    "from sklearn import metrics\n",
    "from itertools import cycle\n",
    "from sklearn.cluster import MeanShift, estimate_bandwidth\n",
    "from sklearn.cluster import DBScan"
   ]
  },
  {
   "cell_type": "code",
   "execution_count": null,
   "metadata": {},
   "outputs": [],
   "source": [
    "data = pd.read_excel(\"Dataset - Code Challenge Data Scientist.xlsx\")\n",
    "print('Este dataset possui %s linhas e %s colunas' % (data.shape[0], data.shape[1]))"
   ]
  },
  {
   "cell_type": "markdown",
   "metadata": {},
   "source": [
    "# ENTENDIMENTO DOS DADOS"
   ]
  },
  {
   "cell_type": "markdown",
   "metadata": {},
   "source": [
    "A presente seção contém o entendimento das variáveis contidas neste modelo.\n",
    "A tabela abaixo apresenta as variáveis que estão disponíveis para o desenvolvimento do modelo e uma pequena amostra dos dados."
   ]
  },
  {
   "cell_type": "code",
   "execution_count": null,
   "metadata": {},
   "outputs": [],
   "source": [
    "data.head()"
   ]
  },
  {
   "cell_type": "markdown",
   "metadata": {},
   "source": [
    "A listagem abaixo apresenta a quantidade total de observações disponíveis para análise, a quantidade de registros com valor ausente e o tipo correspondente a cada variável.\n",
    "Como pode ser observado, a base não contém nenhum valor ausente, o que significa que, provavelmente, não será necessário fazer tratamento de valores missings."
   ]
  },
  {
   "cell_type": "code",
   "execution_count": null,
   "metadata": {},
   "outputs": [],
   "source": [
    "data.info()"
   ]
  },
  {
   "cell_type": "markdown",
   "metadata": {},
   "source": [
    "# VARIÁVEIS CATEGORICAS"
   ]
  },
  {
   "cell_type": "markdown",
   "metadata": {},
   "source": [
    "A presente seção apresenta o detalhamento quanto ao conteúdo de cada variável categórica.\n",
    "Quantidade de valores únicos, categoria com maior e com menor quantidade de observações etc.\n",
    "\n",
    "A primeira variável a ser analisada é a variável DATA_NASCIMENTO.\n",
    "Na análise é possível observar que dentre os 4972 valores preenchidos, 3982 são únicos, ou seja, apenas 990 se repetem.\n",
    "Também é possível observar que apenas 5 pessoas nasceram no mesmo dia, dia 05 de janeiro de 1977.\n",
    "A pessoa mais velha dentre os clientes tem 93 anos e a penas mais jovem tem 2 anos de idade.\n",
    "\n",
    "#### A partir desta variável, surgiu a necessidade de criação da variável ANO, que provavelmente tem categorias com maior número de repetições dentre as observações."
   ]
  },
  {
   "cell_type": "code",
   "execution_count": null,
   "metadata": {},
   "outputs": [],
   "source": [
    "data[\"DATA_NASCIMENTO\"].describe()\n",
    "# NECESSIDADE DE CRIAÇÃO DA VARIÁVEL ANO"
   ]
  },
  {
   "cell_type": "markdown",
   "metadata": {},
   "source": [
    "A próxima variável que será analisada é a variável PERFIL. Foi observado que esta variável contém 4 categorias e mais recorrente é o perfil A, para este perfil ocorreram 3489 observações, ou seja, 70% dos clientes pertencem a um mesmo perfil."
   ]
  },
  {
   "cell_type": "code",
   "execution_count": null,
   "metadata": {},
   "outputs": [],
   "source": [
    "data[\"PERFIL\"].describe()"
   ]
  },
  {
   "cell_type": "markdown",
   "metadata": {},
   "source": [
    "A próxima variável a ser analisada é a variável PROFISSÃO. Esta variável contém 79 níveis e o nível mais recorrente é a profissão ANALISTA DE SISTEMAS, com 564 observações.\n",
    "\n",
    "#### Será necessário redistribuir as categorias desta variável, devido a alta quantidade de níveis e a baixa quantidade de observações em algumas categorias."
   ]
  },
  {
   "cell_type": "code",
   "execution_count": null,
   "metadata": {},
   "outputs": [],
   "source": [
    "data[\"PROFISSAO\"].describe()\n",
    "# NECESSIDADE DE REDISTRIBUIÇÃO, MUITAS CATEGORIAS E ALGUMAS COM POUCAS OBSERVAÇÕES"
   ]
  },
  {
   "cell_type": "code",
   "execution_count": null,
   "metadata": {},
   "outputs": [],
   "source": [
    "data[\"PROFISSAO\"].value_counts()"
   ]
  },
  {
   "cell_type": "markdown",
   "metadata": {},
   "source": [
    "A próxima variável a ser analisada é a variável ESTADO_CIVIL. Esta variável contém 8 níveis e a categoria mais recorrente é o status SOLTEIRO(A), que corresponde a 2584 observações, quase metade da base.\n",
    "\n",
    "#### Também será necessário redistribuir as categorias desta variável, devido a grande diferença de observações entre as categorias existentes."
   ]
  },
  {
   "cell_type": "code",
   "execution_count": null,
   "metadata": {},
   "outputs": [],
   "source": [
    "data[\"ESTADO_CIVIL\"].describe()\n",
    "# NECESSIDADE REDISTRIBUIÇÃO DAS CATEGORIAS, CATEGORIAS COM POUCAS OBSERVAÇÕES"
   ]
  },
  {
   "cell_type": "code",
   "execution_count": null,
   "metadata": {},
   "outputs": [],
   "source": [
    "data[\"ESTADO_CIVIL\"].value_counts()"
   ]
  },
  {
   "cell_type": "markdown",
   "metadata": {},
   "source": [
    "A última variável categórica a ser analisada é a variável GENERO. Esta variável contém apenas 2 níveis e a maioria dos registros estão contidos em uma das categorias."
   ]
  },
  {
   "cell_type": "code",
   "execution_count": null,
   "metadata": {},
   "outputs": [],
   "source": [
    "data[\"GENERO\"].describe()"
   ]
  },
  {
   "cell_type": "markdown",
   "metadata": {},
   "source": [
    "# VARIÁVEIS CONTÍNUAS"
   ]
  },
  {
   "cell_type": "markdown",
   "metadata": {},
   "source": [
    "Esta seção visa analisar as informações estatísticas das variáveis contínuas.\n",
    "\n",
    "A primeira variável a ser análisa é a GEO_REFERENCIA.\n",
    "As informações estatísticas desta variável estão dentro da normalidade, sem valores muito afastados da média, transição entre os quartis gradativa, aparentemente sem outliers."
   ]
  },
  {
   "cell_type": "code",
   "execution_count": null,
   "metadata": {},
   "outputs": [],
   "source": [
    "data[\"GEO_REFERENCIA\"].describe()"
   ]
  },
  {
   "cell_type": "markdown",
   "metadata": {},
   "source": [
    "A próximas 4 variáveis a serem analisadas são as variáveis VALOR_01, VALOR_02, VALOR_03 e VALOR_04.\n",
    "Ambas são variáveis com observações muito acima ou abaixo da média, transição entre os quartis muito diferentes, o que indica a presença de outliers, principalmente nas variáveis 2, 3 e 4.\n",
    "#### Os outliers destas 4 variáveis serão tratados adiante."
   ]
  },
  {
   "cell_type": "code",
   "execution_count": null,
   "metadata": {},
   "outputs": [],
   "source": [
    "data[\"VALOR_01\"].describe()\n",
    "# PRESENÇA DE OUTLIERS"
   ]
  },
  {
   "cell_type": "code",
   "execution_count": null,
   "metadata": {},
   "outputs": [],
   "source": [
    "data[\"VALOR_02\"].describe()\n",
    "# PRESENÇA DE OUTLIERS"
   ]
  },
  {
   "cell_type": "code",
   "execution_count": null,
   "metadata": {},
   "outputs": [],
   "source": [
    "data[\"VALOR_03\"].describe()\n",
    "# PRESENÇA DE OUTLIERS"
   ]
  },
  {
   "cell_type": "code",
   "execution_count": null,
   "metadata": {},
   "outputs": [],
   "source": [
    "data[\"VALOR_04\"].describe()\n",
    "# PRESENÇA DE OUTLIERS"
   ]
  },
  {
   "cell_type": "markdown",
   "metadata": {
    "collapsed": true
   },
   "source": [
    "# EXCLUSÃO E CRIAÇÃO DE VARIÁVEIS"
   ]
  },
  {
   "cell_type": "markdown",
   "metadata": {},
   "source": [
    "Esta seção tem a finalidade de excluir variáveis que não serão utilizadas no modelo e a criação de novas variáveis a partir das variáveis disponíveis.\n",
    "\n",
    "A variável ANO será criada a partir da variável DATA_NASCIMENTO, pois poucas pessoas têm a mesma data de nascimento, mas muitas pessoas várias pessoas têm a mesma idade, portanto será mais fácil encontrar padrões com esta última variável.\n",
    "As variáveis ID e DATA_NASCIMENTO serão excluídas, devido a alta granularidade de ambas.\n",
    "A variável DATA_NASCIMENTO também não pode ser utilizada devido a alta colinearidade com a variável ANO."
   ]
  },
  {
   "cell_type": "code",
   "execution_count": null,
   "metadata": {
    "collapsed": true
   },
   "outputs": [],
   "source": [
    "data_aux = data.copy()"
   ]
  },
  {
   "cell_type": "code",
   "execution_count": null,
   "metadata": {
    "collapsed": true
   },
   "outputs": [],
   "source": [
    "data_aux[\"ANO\"] = list(map(lambda var: var.date().year,data_aux[\"DATA_NASCIMENTO\"]))"
   ]
  },
  {
   "cell_type": "code",
   "execution_count": null,
   "metadata": {},
   "outputs": [],
   "source": [
    "data_aux = data_aux.drop([\"ID\",\"DATA_NASCIMENTO\"],axis=1)\n",
    "data_aux.head()"
   ]
  },
  {
   "cell_type": "code",
   "execution_count": null,
   "metadata": {
    "collapsed": true
   },
   "outputs": [],
   "source": [
    "data1 = data_aux.copy()"
   ]
  },
  {
   "cell_type": "markdown",
   "metadata": {},
   "source": [
    "# FAZER ANÁLISE DE OUTLIERS"
   ]
  },
  {
   "cell_type": "markdown",
   "metadata": {},
   "source": [
    "Esta seção tem a finalidade de compreender o quanto os outliers encontrados nas análises anteriores podem interferir na base de dados e qual a melhor estratégias para eliminá-los.\n",
    "\n",
    "Primeiramente foi observada a grande variação de valores de cada uma das 4 variáveis.\n",
    "Nos gráficos abaixo, é possível observar que a variável VALOR_01 tem um padrão de valores e alguns valores muito fora da média, enquanto as variáveis VALOR_02, VALOR_03 e VALOR_04 têm vários valores fora da média.\n",
    "\n",
    "Um vez identificada e confirmada a existência de outliers e seu impacto na modelagem dos dados, foi considerada a possibilidade de exclusão dos registros com valores muito discrepantes, entretanto depois da realização de alguns testes percebeu-se que a remoção dos valores discrepantes para as 4 variáveis resumiria a base em uma quantidade muito pequena de observações, por isso optou-se em aplicar o valor da média nos valores discrepantes.\n",
    "\n",
    "Para encontrar os valores discrepantes foi verificada a distância entre a cada observação e a média, quando este valor era maior que duas vezes o desvio padrão, o valor da variável foi substituído pela média da variável."
   ]
  },
  {
   "cell_type": "code",
   "execution_count": null,
   "metadata": {
    "collapsed": true
   },
   "outputs": [],
   "source": [
    "data_aux = data1.copy()"
   ]
  },
  {
   "cell_type": "code",
   "execution_count": null,
   "metadata": {},
   "outputs": [],
   "source": [
    "fig, axes = plt.subplots(1, 4, figsize=(20,20))\n",
    "axes[0].plot(data_aux[\"VALOR_01\"])\n",
    "axes[1].plot(data_aux[\"VALOR_02\"])\n",
    "axes[2].plot(data_aux[\"VALOR_03\"])\n",
    "axes[3].plot(data_aux[\"VALOR_04\"])"
   ]
  },
  {
   "cell_type": "code",
   "execution_count": null,
   "metadata": {
    "collapsed": true
   },
   "outputs": [],
   "source": [
    "def outliers(var):\n",
    "    if np.abs(var-variavel.mean())<=0.5*variavel.std():\n",
    "        return var\n",
    "    else:\n",
    "        return variavel.mean()"
   ]
  },
  {
   "cell_type": "code",
   "execution_count": null,
   "metadata": {},
   "outputs": [],
   "source": [
    "# VALOR_01\n",
    "variavel = data_aux[\"VALOR_01\"]\n",
    "data_aux[\"VALOR_01\"] = list(map(outliers,variavel))\n",
    "data_aux[\"VALOR_01\"].describe()"
   ]
  },
  {
   "cell_type": "code",
   "execution_count": null,
   "metadata": {},
   "outputs": [],
   "source": [
    "# VALOR_02\n",
    "variavel = data_aux[\"VALOR_02\"]\n",
    "variavel = list(map(outliers,variavel))\n",
    "data_aux[\"VALOR_02\"] = variavel\n",
    "data_aux[\"VALOR_02\"].describe()"
   ]
  },
  {
   "cell_type": "code",
   "execution_count": null,
   "metadata": {},
   "outputs": [],
   "source": [
    "# VALOR_03\n",
    "variavel = data_aux[\"VALOR_03\"]\n",
    "variavel = list(map(outliers,variavel))\n",
    "data_aux[\"VALOR_03\"] = variavel\n",
    "data_aux[\"VALOR_03\"].describe()"
   ]
  },
  {
   "cell_type": "code",
   "execution_count": null,
   "metadata": {},
   "outputs": [],
   "source": [
    "# VALOR_04\n",
    "variavel = data_aux[\"VALOR_04\"]\n",
    "variavel = list(map(outliers,variavel))\n",
    "data_aux[\"VALOR_04\"] = variavel\n",
    "data_aux[\"VALOR_04\"].describe()"
   ]
  },
  {
   "cell_type": "code",
   "execution_count": null,
   "metadata": {},
   "outputs": [],
   "source": [
    "fig, axes = plt.subplots(1, 4, figsize=(20,5))\n",
    "axes[0].plot(data_aux[\"VALOR_01\"])\n",
    "axes[1].plot(data_aux[\"VALOR_02\"])\n",
    "axes[2].plot(data_aux[\"VALOR_03\"])\n",
    "axes[3].plot(data_aux[\"VALOR_04\"])"
   ]
  },
  {
   "cell_type": "code",
   "execution_count": null,
   "metadata": {
    "collapsed": true
   },
   "outputs": [],
   "source": [
    "data2 = data_aux.copy()"
   ]
  },
  {
   "cell_type": "markdown",
   "metadata": {},
   "source": [
    "# RECATEGORIZAR VARIÁVEIS"
   ]
  },
  {
   "cell_type": "markdown",
   "metadata": {},
   "source": [
    "Esta seção tem o objetivo de redistribuir as categorias de variáveis com muitos níveis ou categorias com pocas observações."
   ]
  },
  {
   "cell_type": "code",
   "execution_count": null,
   "metadata": {
    "collapsed": true
   },
   "outputs": [],
   "source": [
    "data_aux = data2.copy()"
   ]
  },
  {
   "cell_type": "code",
   "execution_count": null,
   "metadata": {
    "collapsed": true
   },
   "outputs": [],
   "source": [
    "def estudo_recat(coluna,w,h):\n",
    "    lista = data_aux[coluna].unique()\n",
    "    fig, axes = plt.subplots(lista.size, 4, figsize=(w,h))\n",
    "    i=0\n",
    "    for j in lista:\n",
    "        axes[i][0].plot(data_aux[data_aux[coluna]==j][\"VALOR_01\"])\n",
    "        axes[i][0].set_xlabel(j)\n",
    "        axes[i][0].set_ylabel(\"VALOR_01\")\n",
    "        axes[i][1].plot(data_aux[data_aux[coluna]==j][\"VALOR_02\"])\n",
    "        axes[i][1].set_xlabel(j)\n",
    "        axes[i][1].set_ylabel(\"VALOR_02\")\n",
    "        axes[i][2].plot(data_aux[data_aux[coluna]==j][\"VALOR_03\"])\n",
    "        axes[i][2].set_xlabel(j)\n",
    "        axes[i][2].set_ylabel(\"VALOR_03\")\n",
    "        axes[i][3].plot(data_aux[data_aux[coluna]==j][\"VALOR_04\"])\n",
    "        axes[i][3].set_xlabel(j)\n",
    "        axes[i][3].set_ylabel(\"VALOR_04\")\n",
    "        i=i+1"
   ]
  },
  {
   "cell_type": "code",
   "execution_count": null,
   "metadata": {
    "collapsed": true
   },
   "outputs": [],
   "source": [
    "def aplica_cat_outras(var):\n",
    "    if var in lista:\n",
    "        return \"OUTROS\"\n",
    "    else:\n",
    "        return var"
   ]
  },
  {
   "cell_type": "code",
   "execution_count": null,
   "metadata": {
    "collapsed": true
   },
   "outputs": [],
   "source": [
    "def aplica_faixa_etaria(var):\n",
    "    idade = datetime.now().year-var\n",
    "    if idade < 18:\n",
    "        return \"infantil\"\n",
    "    elif (idade >= 18 and idade <30) or (idade >= 40):\n",
    "        return \"jovem/idoso\"\n",
    "    elif idade >= 30 and idade < 40:\n",
    "        return \"adulto\"\n",
    "    else:\n",
    "        return var"
   ]
  },
  {
   "cell_type": "markdown",
   "metadata": {},
   "source": [
    "A primeira variável a sofre recategorização foi a PROFISSAO, devido a alta quantidade de níveis existente.\n",
    "Foi observado que muitas categorias continham menos de 100 observações e para esta quantidade tão pequena de observações não foi possível realizar cruzamento com outros dados, pois era informações muito fora do contexto.\n",
    "Portanto, todas as observações cujo PROFISSAO tinha uma frequência menor que 100 na base foram recategorizadas para a categoria OUTROS.\n",
    "\n",
    "Com esta modificação, a variável PROFISSAO passou a ter 15 níveis, e o nível mais recorrente passou a ser o nível OUTROS."
   ]
  },
  {
   "cell_type": "code",
   "execution_count": null,
   "metadata": {},
   "outputs": [],
   "source": [
    "freq_profissoes = data_aux['PROFISSAO'].value_counts()\n",
    "lista = freq_profissoes[freq_profissoes<100]\n",
    "data_aux['PROFISSAO'] = list(map(aplica_cat_outras,data_aux['PROFISSAO']))\n",
    "data_aux[\"PROFISSAO\"].value_counts()"
   ]
  },
  {
   "cell_type": "markdown",
   "metadata": {},
   "source": [
    "A próxima variável a sofrer alteração foi a variável ESTADO_CIVIL.\n",
    "Esta variável foi apresentada no gráfico separada por cada um dos níveis e em contraponto com as variáveis VALOR_01, VALOR_02, VALOR_03 e VALOR_04, em gráficos diferentes.\n",
    "#### Nesta análise foi possível observar que os níveis SOLTEIRO(A) e CASADO(A) COM BRASILEIRO(A) NATO(A) tiham cada um padrão próprio, enquanto os demais níveis tinham um outro padrão semelhante entre si.\n",
    "Por isso, estes valores foram agrupados, utilizando como recurso a frequência de observações por nível.\n",
    "Pode-se observar uma sútil semelhança entre os gráficos destas 3 categorias resultantes."
   ]
  },
  {
   "cell_type": "code",
   "execution_count": null,
   "metadata": {},
   "outputs": [],
   "source": [
    "freq_estadocivil = data_aux['ESTADO_CIVIL'].value_counts()\n",
    "lista = freq_estadocivil[freq_estadocivil<1000]\n",
    "data_aux['ESTADO_CIVIL'] = list(map(aplica_cat_outras,data_aux['ESTADO_CIVIL']))\n",
    "data_aux[\"ESTADO_CIVIL\"].value_counts()"
   ]
  },
  {
   "cell_type": "code",
   "execution_count": null,
   "metadata": {},
   "outputs": [],
   "source": [
    "estudo_recat(\"ESTADO_CIVIL\",30,15)"
   ]
  },
  {
   "cell_type": "markdown",
   "metadata": {},
   "source": [
    "A proxima variável a ser estudad foi a FAIXA_ETARIA.\n",
    "Esta variável primeiramente foi criada com base na variável ANO. A partir da variável intermediária IDADE, as observações foram agrupadas em INFANTIL (abaixo de 18 anos), JOVEM (entre 18 e 30 anos), ADULTO1 (entre 30 e 35 anos), ADULTO2 (entre 35 e 40 anos), ADULTO3 (acima de 40 anos). Este agrupamento foi realizado baseado nas categorias sociais (criança, jovem, adulto) e no equilíbrio da quantidade de observações em cada nível.\n",
    "\n",
    "Uma vez criada as categorias, os gráficos de contraponto com as variáveis númericas VALOR_01, VALOR_02, VALOR_03 e VALOR_04 mostraram leve semelhança entre o padrão dos níveis JOVEM e ADULTO3 e ADULTO1 e ADULTO2, por tanto estes níveis também foram agrupados.\n",
    "\n",
    "Desde a primeira categorização desta variável, ficou evidente a baixa quantidade de observações no nível INFANTIL, apenas 13 registros, portanto estes registros foram excluídos da base de dados, para não criar ruído nos outros perfis de clientes."
   ]
  },
  {
   "cell_type": "code",
   "execution_count": null,
   "metadata": {},
   "outputs": [],
   "source": [
    "data_aux[\"FAIXA_ETARIA\"]=list(map(aplica_faixa_etaria,data_aux[\"ANO\"]))\n",
    "# REMOÇÃO DE CRIANÇAS DA BASE\n",
    "data_aux = data_aux[data_aux[\"FAIXA_ETARIA\"] != \"infantil\"]\n",
    "data_aux[\"FAIXA_ETARIA\"].value_counts()"
   ]
  },
  {
   "cell_type": "code",
   "execution_count": null,
   "metadata": {},
   "outputs": [],
   "source": [
    "estudo_recat(\"FAIXA_ETARIA\",20,10)"
   ]
  },
  {
   "cell_type": "code",
   "execution_count": null,
   "metadata": {
    "collapsed": true
   },
   "outputs": [],
   "source": [
    "data3 = data_aux.copy()"
   ]
  },
  {
   "cell_type": "markdown",
   "metadata": {},
   "source": [
    "# CRIAÇÃO DE VARIÁVEIS DUMMIES"
   ]
  },
  {
   "cell_type": "code",
   "execution_count": null,
   "metadata": {
    "collapsed": true
   },
   "outputs": [],
   "source": [
    "data_aux = data3.copy()"
   ]
  },
  {
   "cell_type": "markdown",
   "metadata": {},
   "source": [
    "Para visualização de alguns gráficos e utilização de modelos que só aceitam valores numéricos, foram criadas variáveis dummies a partir das variáveis categoricas."
   ]
  },
  {
   "cell_type": "code",
   "execution_count": null,
   "metadata": {
    "collapsed": true
   },
   "outputs": [],
   "source": [
    "profissao = pd.get_dummies(data_aux['PROFISSAO'],drop_first=True)\n",
    "genero = pd.get_dummies(data_aux['GENERO'],drop_first=True)\n",
    "estado_civil = pd.get_dummies(data_aux['ESTADO_CIVIL'],drop_first=True)\n",
    "perfil = pd.get_dummies(data_aux['PERFIL'],drop_first=True)\n",
    "faixaetaria = pd.get_dummies(data_aux['FAIXA_ETARIA'],drop_first=True)\n",
    "\n",
    "base_com_dummies = pd.concat([data_aux.drop([\"PROFISSAO\",\"GENERO\",\"ESTADO_CIVIL\",\"PERFIL\",\"FAIXA_ETARIA\"],axis=1),profissao,genero,estado_civil,perfil,faixaetaria],axis=1)"
   ]
  },
  {
   "cell_type": "code",
   "execution_count": null,
   "metadata": {
    "collapsed": true
   },
   "outputs": [],
   "source": [
    "base_dummies_profissao = data_aux.copy()\n",
    "base_dummies_profissao.drop([\"GENERO\",\"ESTADO_CIVIL\",\"PERFIL\",\"FAIXA_ETARIA\"], axis=1,inplace=True)\n",
    "base_dummies_profissao = pd.concat([base_dummies_profissao,genero,estado_civil,perfil,faixaetaria],axis=1)"
   ]
  },
  {
   "cell_type": "code",
   "execution_count": null,
   "metadata": {
    "collapsed": true
   },
   "outputs": [],
   "source": [
    "base_dummies_genero = data_aux.copy()\n",
    "base_dummies_genero.drop([\"ESTADO_CIVIL\",\"PERFIL\",\"FAIXA_ETARIA\",\"PROFISSAO\"], axis=1,inplace=True)\n",
    "base_dummies_genero = pd.concat([base_dummies_genero,estado_civil,perfil,faixaetaria,profissao],axis=1)"
   ]
  },
  {
   "cell_type": "code",
   "execution_count": null,
   "metadata": {
    "collapsed": true
   },
   "outputs": [],
   "source": [
    "base_dummies_estadocivil = data_aux.copy()\n",
    "base_dummies_estadocivil.drop([\"GENERO\",\"PERFIL\",\"FAIXA_ETARIA\",\"PROFISSAO\"], axis=1,inplace=True)\n",
    "base_dummies_estadocivil = pd.concat([base_dummies_estadocivil,genero,perfil,faixaetaria,profissao],axis=1)"
   ]
  },
  {
   "cell_type": "code",
   "execution_count": null,
   "metadata": {
    "collapsed": true
   },
   "outputs": [],
   "source": [
    "base_dummies_faixaetaria = data_aux.copy()\n",
    "base_dummies_faixaetaria.drop([\"GENERO\",\"ESTADO_CIVIL\",\"PERFIL\",\"PROFISSAO\"], axis=1,inplace=True)\n",
    "base_dummies_faixaetaria = pd.concat([base_dummies_faixaetaria,genero,estado_civil,perfil,profissao],axis=1)"
   ]
  },
  {
   "cell_type": "code",
   "execution_count": null,
   "metadata": {
    "collapsed": true
   },
   "outputs": [],
   "source": [
    "base_dummies_perfil = data_aux.copy()\n",
    "base_dummies_perfil.drop([\"GENERO\",\"ESTADO_CIVIL\",\"FAIXA_ETARIA\",\"PROFISSAO\"], axis=1,inplace=True)\n",
    "base_dummies_perfil = pd.concat([base_dummies_perfil,genero,estado_civil,faixaetaria,profissao],axis=1)"
   ]
  },
  {
   "cell_type": "code",
   "execution_count": null,
   "metadata": {
    "collapsed": true
   },
   "outputs": [],
   "source": [
    "data4 = data_aux.copy()"
   ]
  },
  {
   "cell_type": "markdown",
   "metadata": {
    "collapsed": true
   },
   "source": [
    "# VISUALIZAÇÃO DOS DADOS"
   ]
  },
  {
   "cell_type": "markdown",
   "metadata": {},
   "source": [
    "Esta seção tem o objetivo de oferecer insights quanto ao cruzamento das variáveis do modelo e visualizações isoladas de cada variável. Estas visualizações foram realizadas em vários momentos no decorrer do desenvolvimento do modelo, porém, a título de organização do código, todas as visualizações foram organizadas nesta seção."
   ]
  },
  {
   "cell_type": "code",
   "execution_count": null,
   "metadata": {},
   "outputs": [],
   "source": [
    "data_aux = data4.copy()\n",
    "data_aux.head(1)"
   ]
  },
  {
   "cell_type": "markdown",
   "metadata": {},
   "source": [
    "#### No grid abaixo é possível observar a correlação de todas as variáveis contínuas entre si.\n",
    "#### Algumas observações são dignas de destaque, são elas:\n",
    "##### 1. A variável GEO_REFERENCIA não tem correlação com ennhuma outra variável numérica\n",
    "##### 2. As variáveis VALOR_01 e VALOR_02 tâm alta correlação\n",
    "##### 3. As variáveis VALOR_01 e ANO têm correlação inversa, o que significa que quanto mais novo o cliente mais alto o valor da variável VALOR_01, fenomeno que ocorre em menor grau nas variáveis VALOR_02, VALOR_03 e VALOR_04\n",
    "##### 4. As variáveis VALOR_03 e VALOR_04 também têm correlação com a variável VALOR_02, em menor grau\n",
    "\n",
    "#### A partir das conclusões obtidas pode ser possível inferir diversas regras de negócio, a depender do significado das variáveis e do contexto em que será aplicado. Por exemplo, caso as variáveis VALOR_N correspondam a um valor em dinheiro utilizado em viagens, é possível inferir que clientes com maior idade têm um gasto maior que cliente mais novos. "
   ]
  },
  {
   "cell_type": "code",
   "execution_count": null,
   "metadata": {},
   "outputs": [],
   "source": [
    "sns.heatmap(data_aux.corr(),annot=True)"
   ]
  },
  {
   "cell_type": "markdown",
   "metadata": {},
   "source": [
    "#### Os proximos 4 gráficos apresentam os valores VALOR_N em contraponto a FAIXA_ETARIA dos clientes.\n",
    "\n",
    "#### É possível observar uma concentração ligeiramente maior na coluna ADULTO em relação a coluna JOVEM/IDOSO, para as variáveis VALOR_01 e VALOR_02."
   ]
  },
  {
   "cell_type": "code",
   "execution_count": null,
   "metadata": {},
   "outputs": [],
   "source": [
    "sns.stripplot(x=\"FAIXA_ETARIA\", y=\"VALOR_01\",data=data_aux,jitter=True)"
   ]
  },
  {
   "cell_type": "code",
   "execution_count": null,
   "metadata": {},
   "outputs": [],
   "source": [
    "sns.stripplot(x=\"FAIXA_ETARIA\", y=\"VALOR_02\", data=data_aux,jitter=True)"
   ]
  },
  {
   "cell_type": "code",
   "execution_count": null,
   "metadata": {},
   "outputs": [],
   "source": [
    "sns.stripplot(x=\"FAIXA_ETARIA\", y=\"VALOR_03\", data=data_aux,jitter=True)"
   ]
  },
  {
   "cell_type": "code",
   "execution_count": null,
   "metadata": {},
   "outputs": [],
   "source": [
    "sns.stripplot(x=\"FAIXA_ETARIA\", y=\"VALOR_04\", data=data_aux,jitter=True)"
   ]
  },
  {
   "cell_type": "markdown",
   "metadata": {},
   "source": [
    "#### Os proximos 4 gráficos apresentam os valores VALOR_N em contraponto a GENERO dos clientes.\n",
    "\n",
    "#### É possível observar uma concentração maior na coluna M em relação a coluna F, entretanto, isto ocorre devido maior quantidade de observações com GENERO com valor M."
   ]
  },
  {
   "cell_type": "code",
   "execution_count": null,
   "metadata": {},
   "outputs": [],
   "source": [
    "sns.stripplot(x=\"GENERO\", y=\"VALOR_01\", hue='PERFIL',data=data_aux,jitter=True)"
   ]
  },
  {
   "cell_type": "code",
   "execution_count": null,
   "metadata": {},
   "outputs": [],
   "source": [
    "sns.stripplot(x=\"GENERO\", y=\"VALOR_02\", hue='PERFIL',data=data_aux,jitter=True)"
   ]
  },
  {
   "cell_type": "code",
   "execution_count": null,
   "metadata": {},
   "outputs": [],
   "source": [
    "sns.stripplot(x=\"GENERO\", y=\"VALOR_03\", hue='PERFIL',data=data_aux,jitter=True)"
   ]
  },
  {
   "cell_type": "code",
   "execution_count": null,
   "metadata": {},
   "outputs": [],
   "source": [
    "sns.stripplot(x=\"GENERO\", y=\"VALOR_04\", hue='PERFIL',data=data_aux,jitter=True)"
   ]
  },
  {
   "cell_type": "markdown",
   "metadata": {},
   "source": [
    "#### Os proximos 4 gráficos apresentam os valores VALOR_N em contraponto a ESTADO_CIVIL dos clientes.\n",
    "#### É possível observar uma concentração ligeiramente maior no topo da coluna CASADO(A) COM BRASILEIRO(A) NATIVO(A) em relação às outras colunas, para as variáveis VALOR_01 e VALOR_02. Este fato é interessante, porque mesmo a categoria SOLTEIRO(A) contendo mais registros, as observações com maiores valores nas variáveis VALOR_N estão na categoria CASADO(A) COM BRASILEIRO(A) NATIVO(A), o que mais uma vez pode evidenciar um padrão de consumo dos clientes, mostrando que pessoas casadas consomem um valor maior que pessoas solteiras ou em outros tipos de relacionamentos."
   ]
  },
  {
   "cell_type": "code",
   "execution_count": null,
   "metadata": {},
   "outputs": [],
   "source": [
    "sns.stripplot(x=\"ESTADO_CIVIL\", y=\"VALOR_01\", hue='PERFIL',data=data_aux,jitter=True)"
   ]
  },
  {
   "cell_type": "code",
   "execution_count": null,
   "metadata": {},
   "outputs": [],
   "source": [
    "sns.stripplot(x=\"ESTADO_CIVIL\", y=\"VALOR_02\", hue='PERFIL',data=data_aux,jitter=True)"
   ]
  },
  {
   "cell_type": "code",
   "execution_count": null,
   "metadata": {},
   "outputs": [],
   "source": [
    "sns.stripplot(x=\"ESTADO_CIVIL\", y=\"VALOR_03\", hue='PERFIL',data=data_aux,jitter=True)"
   ]
  },
  {
   "cell_type": "code",
   "execution_count": null,
   "metadata": {},
   "outputs": [],
   "source": [
    "sns.stripplot(x=\"ESTADO_CIVIL\", y=\"VALOR_04\", hue='PERFIL',data=data_aux,jitter=True)"
   ]
  },
  {
   "cell_type": "markdown",
   "metadata": {},
   "source": [
    "#### Os proximos 4 gráficos apresentam os valores VALOR_N em contraponto a PERFIL dos clientes.\n",
    "#### É possível observar uma concentração maior nas colunas A e B em relação às outras colunas. Nesta variável ocorre o mesmo fato da variável ESTADO_CIVIL, pois foi possível observar nas análises anteriores que o PERFIL A contém a maioria das observações da base, mas para altos valores de VALOR_N temos alta concentração no PERFIL A e PERFIL B."
   ]
  },
  {
   "cell_type": "code",
   "execution_count": null,
   "metadata": {},
   "outputs": [],
   "source": [
    "sns.stripplot(x=\"PERFIL\", y=\"VALOR_01\", hue='PERFIL',data=data_aux,jitter=True)"
   ]
  },
  {
   "cell_type": "code",
   "execution_count": null,
   "metadata": {},
   "outputs": [],
   "source": [
    "sns.stripplot(x=\"PERFIL\", y=\"VALOR_02\", hue='PERFIL',data=data_aux,jitter=True)"
   ]
  },
  {
   "cell_type": "code",
   "execution_count": null,
   "metadata": {},
   "outputs": [],
   "source": [
    "sns.stripplot(x=\"PERFIL\", y=\"VALOR_03\", hue='PERFIL',data=data_aux,jitter=True)"
   ]
  },
  {
   "cell_type": "code",
   "execution_count": null,
   "metadata": {},
   "outputs": [],
   "source": [
    "sns.stripplot(x=\"PERFIL\", y=\"VALOR_04\", hue='PERFIL',data=data_aux,jitter=True)"
   ]
  },
  {
   "cell_type": "code",
   "execution_count": null,
   "metadata": {},
   "outputs": [],
   "source": [
    "data_aux.head(1)"
   ]
  },
  {
   "cell_type": "markdown",
   "metadata": {},
   "source": [
    "#### A análise abaio apresenta a presença de valores altos das variáveis contínuas nas profissões dos clientes.\n",
    "#### É  possível observar que para as profissões BANCARIO E ECONOMIARIO, ENGENHEIRO, MÉDICO e SERVIDOR PÚBLICO FEDERAL a média de VALOR_2 é bem alta. em comparação às outras profissões.\n",
    "#### Também é possível observar este padrão segue nas outras variáveis VALOR_N, com menor intensidade.\n",
    "#### O ano de nascimento (IDADE) não tem nenhuma influência em relação a profissão dos clientes."
   ]
  },
  {
   "cell_type": "code",
   "execution_count": null,
   "metadata": {},
   "outputs": [],
   "source": [
    "plt.figure(figsize=(10,8))\n",
    "sns.heatmap(base_dummies_profissao.drop([\"M\",\"OUTROS\",\"SOLTEIRO(A)\",\"B\",\"C\",\"D\",\"jovem/idoso\"],axis=1).groupby(\"PROFISSAO\").mean())"
   ]
  },
  {
   "cell_type": "markdown",
   "metadata": {},
   "source": [
    "#### Em relação ao GENERO é possível observar que a presença de homens nas profissões de ESTUDANTE, SERVIDOR PUBLICO FEDERAL, AUTÔNOMO é mais alta que em outras profissões."
   ]
  },
  {
   "cell_type": "code",
   "execution_count": null,
   "metadata": {},
   "outputs": [],
   "source": [
    "plt.figure(figsize=(10,2))\n",
    "sns.heatmap(base_dummies_genero.drop([\"GEO_REFERENCIA\",\"VALOR_01\",\"VALOR_02\",\"VALOR_03\",\"VALOR_04\",\"ANO\",\"SOLTEIRO(A)\",\"jovem/idoso\",\"B\",\"OUTROS\",\"ANALISTA DE SISTEMAS\",\"ENGENHEIRO\"],axis=1).groupby(\"GENERO\").sum())"
   ]
  },
  {
   "cell_type": "markdown",
   "metadata": {},
   "source": [
    "#### Em relação a faixa etária, não há diferença relevante na profissão de ENGENHEIRO\n",
    "#### Nas profissões de ANALISTA DE SISTEMAS e SERVIDOR PUBLICO FEDERAL existe uma predominância de ADULTOS (entre 30 e 40 anos)\n",
    "#### Nas profissões de AUTÔNOMO, AUXILIAR DE ESCRITÓRIOS, EMPRESÁRIO e ESTUDANTE, existe uma predominância de JOVENS ou ADULTOS acima de 40 anos."
   ]
  },
  {
   "cell_type": "code",
   "execution_count": null,
   "metadata": {},
   "outputs": [],
   "source": [
    "plt.figure(figsize=(10,3))\n",
    "sns.heatmap(base_dummies_faixaetaria.drop([\"GEO_REFERENCIA\",\"VALOR_01\",\"VALOR_02\",\"VALOR_03\",\"VALOR_04\",\"ANO\",\"M\",\"OUTROS\",\"SOLTEIRO(A)\",\"B\"],axis=1).groupby(\"FAIXA_ETARIA\").sum())"
   ]
  },
  {
   "cell_type": "markdown",
   "metadata": {},
   "source": [
    "#### Quanto ao ESTADO_CIVIL, é possível observar uma predominância de pessoas solteiras nas profissões ANALISTAS DE SISTEMAS e ESTUDANTES."
   ]
  },
  {
   "cell_type": "code",
   "execution_count": null,
   "metadata": {},
   "outputs": [],
   "source": [
    "plt.figure(figsize=(10,3))\n",
    "sns.heatmap(base_dummies_estadocivil.drop([\"GEO_REFERENCIA\",\"VALOR_01\",\"VALOR_02\",\"VALOR_03\",\"VALOR_04\",\"ANO\",\"M\",\"jovem/idoso\",\"B\",\"OUTROS\"],axis=1).groupby(\"ESTADO_CIVIL\").sum())"
   ]
  },
  {
   "cell_type": "markdown",
   "metadata": {},
   "source": [
    "## DISTRIBUIÇÕES DAS VARIÁVEIS CONTÍNUAS"
   ]
  },
  {
   "cell_type": "markdown",
   "metadata": {},
   "source": [
    "#### A próxima seção apresenta a distribuição das variáveis contínuas do modelo. Esta informação é útil na decisão da técnica de modelagem que será escolhida e da necessidade de novas categorização nos dados."
   ]
  },
  {
   "cell_type": "code",
   "execution_count": null,
   "metadata": {},
   "outputs": [],
   "source": [
    "sns.distplot(data_aux[\"VALOR_01\"])"
   ]
  },
  {
   "cell_type": "code",
   "execution_count": null,
   "metadata": {},
   "outputs": [],
   "source": [
    "sns.distplot(data_aux[\"VALOR_02\"])"
   ]
  },
  {
   "cell_type": "code",
   "execution_count": null,
   "metadata": {},
   "outputs": [],
   "source": [
    "sns.distplot(data_aux[\"VALOR_03\"])"
   ]
  },
  {
   "cell_type": "code",
   "execution_count": null,
   "metadata": {},
   "outputs": [],
   "source": [
    "sns.distplot(data_aux[\"VALOR_04\"])"
   ]
  },
  {
   "cell_type": "code",
   "execution_count": null,
   "metadata": {},
   "outputs": [],
   "source": [
    "sns.distplot(data_aux[\"GEO_REFERENCIA\"])"
   ]
  },
  {
   "cell_type": "code",
   "execution_count": null,
   "metadata": {
    "collapsed": true
   },
   "outputs": [],
   "source": []
  },
  {
   "cell_type": "markdown",
   "metadata": {},
   "source": [
    "# APLICAR TÉCNICAS DE MODELAGEM"
   ]
  },
  {
   "cell_type": "markdown",
   "metadata": {},
   "source": [
    "Esta seção será utilizada para aplicar diferentes técnicas de modelagem nos dados análisados e tratados.\n",
    "Os resultados serão comparados a fim de encontrar o modelo mais acertivo no agrupamento dos dados analisados, de modo que os grupos encontrados reúnam observações o mais semelhantes dentro das observações dentro do seu próprio grupo e o mais diferentes quando comparados a observações de outros grupos."
   ]
  },
  {
   "cell_type": "markdown",
   "metadata": {},
   "source": [
    "A base que será utilizada será a base de variáveis dummies, devido a facilidade em manipulação de valores numéricos para a maioria das técnicas de modelagem.\n",
    "\n",
    "Foi necessário excluir algumas variáveis, devido a baixa correlação com outras variáveis do modelo, no caso de GEO_REFERENCIA, e a alta colinearidade com outras variáveis, no caso do ANO."
   ]
  },
  {
   "cell_type": "code",
   "execution_count": null,
   "metadata": {},
   "outputs": [],
   "source": [
    "data_aux = base_com_dummies.copy()\n",
    "data_aux=data_aux.drop([\"GEO_REFERENCIA\",\"ANO\"],axis=1)\n",
    "data_aux.head()"
   ]
  },
  {
   "cell_type": "markdown",
   "metadata": {
    "collapsed": true
   },
   "source": [
    "#### A primeira técnica que será utilizada será o Kmeans, por ser um algoritmo recomendado para uso geral e por ser interessante em dados com poucos clusters."
   ]
  },
  {
   "cell_type": "code",
   "execution_count": null,
   "metadata": {},
   "outputs": [],
   "source": [
    "#lista = range(1,1000)\n",
    "#for i in lista:\n",
    "i=2\n",
    "kmeans = KMeans(n_clusters=i)\n",
    "kmeans.fit(data_aux)\n",
    "#    erro = np.abs(data_aux[[]]-kmeans.cluster_centers_[i])"
   ]
  },
  {
   "cell_type": "markdown",
   "metadata": {},
   "source": [
    "#### O Gráfico abaixo apresenta os centróides resultantes do agrupamento do modelo"
   ]
  },
  {
   "cell_type": "code",
   "execution_count": null,
   "metadata": {},
   "outputs": [],
   "source": [
    "plt.scatter(data_aux[\"VALOR_01\"], data_aux[\"VALOR_02\"], s = 100, c = kmeans.labels_)\n",
    "plt.scatter(kmeans.cluster_centers_[:, 0], kmeans.cluster_centers_[:, 1], s = 300, c = 'red',label = 'Centroids')\n",
    "plt.legend()\n",
    "\n",
    "plt.show()"
   ]
  },
  {
   "cell_type": "markdown",
   "metadata": {},
   "source": [
    "#### O Gráfico abaixo apresenta um overview geral do agrupamento dos clientes utilizando a técnica Kmeans.\n",
    "#### Como é possível observar, apenas a variável VALOR_02 foi considerada, pois o agrupamento não distíngue os grupos em nenhuma outra variável."
   ]
  },
  {
   "cell_type": "code",
   "execution_count": null,
   "metadata": {},
   "outputs": [],
   "source": [
    "base_sem_dummies = data4.copy()\n",
    "base_sem_dummies[\"LABEL\"] = kmeans.labels_\n",
    "sns.pairplot(base_sem_dummies,hue='LABEL',palette='rainbow')"
   ]
  },
  {
   "cell_type": "markdown",
   "metadata": {},
   "source": [
    "#### Uma possível razão para o modelo não ter resultado em um melhor agrupamento dos dados, pode ser a necessidade de grupos de mesmo tamanho do Kmeans.\n",
    "\n",
    "#### A próxima técnica que será aplicada é a AffinityPropagation. Este algoritmo é recomendado em casos em que os clusters têm tamanhos diferentes e quando tem-se uma grande quantidade de grupos."
   ]
  },
  {
   "cell_type": "code",
   "execution_count": null,
   "metadata": {},
   "outputs": [],
   "source": [
    "X = data_aux\n",
    "af = AffinityPropagation(preference=-50).fit(X)\n",
    "cluster_centers_indices = af.cluster_centers_indices_\n",
    "labels = af.labels_\n",
    "\n",
    "n_clusters_ = len(cluster_centers_indices)\n",
    "\n",
    "print('Estimated number of clusters: %d' % n_clusters_)\n",
    "print(\"Silhouette Coefficient: %0.3f\"\n",
    "      % metrics.silhouette_score(X, labels, metric='sqeuclidean'))\n",
    "plt.close('all')\n",
    "plt.figure(1)\n",
    "plt.clf()\n",
    "\n",
    "colors = cycle('bgrcmykbgrcmykbgrcmykbgrcmyk')\n",
    "for k, col in zip(range(n_clusters_), colors):\n",
    "    class_members = labels == k\n",
    "    cluster_center = X[cluster_centers_indices[k]]\n",
    "    plt.plot(X[class_members, 0], X[class_members, 1], col + '.')\n",
    "    plt.plot(cluster_center[0], cluster_center[1], 'o', markerfacecolor=col,\n",
    "             markeredgecolor='k', markersize=14)\n",
    "    for x in X[class_members]:\n",
    "        plt.plot([cluster_center[0], x[0]], [cluster_center[1], x[1]], col)\n",
    "\n",
    "plt.title('Estimated number of clusters: %d' % n_clusters_)\n",
    "plt.show()"
   ]
  },
  {
   "cell_type": "code",
   "execution_count": null,
   "metadata": {
    "collapsed": true
   },
   "outputs": [],
   "source": []
  },
  {
   "cell_type": "markdown",
   "metadata": {
    "collapsed": true
   },
   "source": [
    "#### O útimo algoritmo que será testado é o DBScan. Este algoritmo utiliza geometria não plana para agrupar as observações, permitindo deste modo a utlização de várias variáveis na identificação dos grupos."
   ]
  },
  {
   "cell_type": "code",
   "execution_count": null,
   "metadata": {
    "collapsed": true
   },
   "outputs": [],
   "source": [
    "X = data_aux\n",
    "X = StandardScaler().fit_transform(X)\n",
    "\n",
    "db = DBSCAN(eps=0.3, min_samples=10).fit(X)\n",
    "core_samples_mask = np.zeros_like(db.labels_, dtype=bool)\n",
    "core_samples_mask[db.core_sample_indices_] = True\n",
    "labels = db.labels_\n",
    "\n",
    "n_clusters_ = len(set(labels)) - (1 if -1 in labels else 0)\n",
    "\n",
    "print('Estimated number of clusters: %d' % n_clusters_)\n",
    "print(\"Silhouette Coefficient: %0.3f\"\n",
    "      % metrics.silhouette_score(X, labels))\n",
    "\n",
    "unique_labels = set(labels)\n",
    "colors = [plt.cm.Spectral(each)\n",
    "          for each in np.linspace(0, 1, len(unique_labels))]\n",
    "for k, col in zip(unique_labels, colors):\n",
    "    if k == -1:\n",
    "        col = [0, 0, 0, 1]\n",
    "\n",
    "    class_member_mask = (labels == k)\n",
    "\n",
    "    xy = X[class_member_mask & core_samples_mask]\n",
    "    plt.plot(xy[:, 0], xy[:, 1], 'o', markerfacecolor=tuple(col),\n",
    "             markeredgecolor='k', markersize=14)\n",
    "\n",
    "    xy = X[class_member_mask & ~core_samples_mask]\n",
    "    plt.plot(xy[:, 0], xy[:, 1], 'o', markerfacecolor=tuple(col),\n",
    "             markeredgecolor='k', markersize=6)\n",
    "\n",
    "plt.title('Cluster estimados: %d' % n_clusters_)\n",
    "plt.show()"
   ]
  },
  {
   "cell_type": "markdown",
   "metadata": {},
   "source": [
    "#### O algoritmo abaixo é o MeanShift..."
   ]
  },
  {
   "cell_type": "code",
   "execution_count": null,
   "metadata": {
    "collapsed": true
   },
   "outputs": [],
   "source": [
    "X = data_aux\n",
    "bandwidth = estimate_bandwidth(X, quantile=0.2, n_samples=500)\n",
    "ms = MeanShift(bandwidth=bandwidth, bin_seeding=True)\n",
    "ms.fit(X)\n",
    "labels = ms.labels_\n",
    "cluster_centers = ms.cluster_centers_\n",
    "\n",
    "labels_unique = np.unique(labels)\n",
    "n_clusters_ = len(labels_unique)\n",
    "\n",
    "print(\"number of estimated clusters : %d\" % n_clusters_)\n",
    "\n",
    "plt.figure(1)\n",
    "plt.clf()\n",
    "\n",
    "colors = cycle('bgrcmykbgrcmykbgrcmykbgrcmyk')\n",
    "for k, col in zip(range(n_clusters_), colors):\n",
    "    my_members = labels == k\n",
    "    cluster_center = cluster_centers[k]\n",
    "    plt.plot(X[my_members, 0], X[my_members, 1], col + '.')\n",
    "    plt.plot(cluster_center[0], cluster_center[1], 'o', markerfacecolor=col,\n",
    "             markeredgecolor='k', markersize=14)\n",
    "plt.title('Estimated number of clusters: %d' % n_clusters_)\n",
    "plt.show()"
   ]
  },
  {
   "cell_type": "markdown",
   "metadata": {
    "collapsed": true
   },
   "source": [
    "# AVALIAÇÃO DO MODELO"
   ]
  },
  {
   "cell_type": "code",
   "execution_count": null,
   "metadata": {
    "collapsed": true
   },
   "outputs": [],
   "source": [
    "X = data_aux\n",
    "y = kmeans.labels_\n",
    "\n",
    "dtree = DecisionTreeClassifier()\n",
    "dtree.fit(X_train,y_train)\n",
    "\n",
    "X_train, X_test, y_train, y_test = train_test_split(X, y, test_size=0.30)\n",
    "predictions = dtree.predict(X_test)\n",
    "print(classification_report(y_test,predictions))"
   ]
  },
  {
   "cell_type": "code",
   "execution_count": null,
   "metadata": {
    "collapsed": true
   },
   "outputs": [],
   "source": [
    "print(confusion_matrix(y_test,predictions))"
   ]
  },
  {
   "cell_type": "code",
   "execution_count": null,
   "metadata": {
    "collapsed": true
   },
   "outputs": [],
   "source": [
    "from IPython.display import Image  \n",
    "from sklearn.externals.six import StringIO  \n",
    "from sklearn.tree import export_graphviz\n",
    "import pydot \n",
    "\n",
    "features = list(.columns[1:])\n",
    "dot_data = StringIO()  \n",
    "export_graphviz(dtree, out_file=dot_data,feature_names=features,filled=True,rounded=True)\n",
    "\n",
    "graph = pydot.graph_from_dot_data(dot_data.getvalue())  \n",
    "Image(graph[0].create_png())"
   ]
  },
  {
   "cell_type": "code",
   "execution_count": null,
   "metadata": {
    "collapsed": true
   },
   "outputs": [],
   "source": []
  },
  {
   "cell_type": "code",
   "execution_count": null,
   "metadata": {
    "collapsed": true
   },
   "outputs": [],
   "source": []
  },
  {
   "cell_type": "markdown",
   "metadata": {
    "collapsed": true
   },
   "source": [
    "# CONCLUSÕES"
   ]
  },
  {
   "cell_type": "markdown",
   "metadata": {},
   "source": [
    "Neste modelo foi possível realizar uma análise aprofundada em uma base de dados de clientes.\n",
    "Inicialmente foi realizado o entendimento dos dados e das váriáveis disponíveis na base de dados.\n",
    "Em seguida foram realizados diversos tratamentos nos dados, a fim de obter um melhor aproveitamento das variáveis e perder a menor quantidade de informações possível. Dentre os tratamentos realizados estão: tratamento de outliers, exclusão de categorias muito pequenas, redistribuição de categorias.\n",
    "Em seguida foram realizadas \n",
    "http://scikit-learn.org/stable/modules/clustering.html#k-means"
   ]
  }
 ],
 "metadata": {
  "kernelspec": {
   "display_name": "Python 3",
   "language": "python",
   "name": "python3"
  },
  "language_info": {
   "codemirror_mode": {
    "name": "ipython",
    "version": 3
   },
   "file_extension": ".py",
   "mimetype": "text/x-python",
   "name": "python",
   "nbconvert_exporter": "python",
   "pygments_lexer": "ipython3",
   "version": "3.6.1"
  }
 },
 "nbformat": 4,
 "nbformat_minor": 2
}
